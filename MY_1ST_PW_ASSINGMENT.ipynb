{
  "nbformat": 4,
  "nbformat_minor": 0,
  "metadata": {
    "colab": {
      "provenance": []
    },
    "kernelspec": {
      "name": "python3",
      "display_name": "Python 3"
    },
    "language_info": {
      "name": "python"
    }
  },
  "cells": [
    {
      "cell_type": "code",
      "source": [
        "print(\"hello world!!\")"
      ],
      "metadata": {
        "id": "oWXba5tvxOOE",
        "colab": {
          "base_uri": "https://localhost:8080/"
        },
        "outputId": "7b371ffa-22f9-470b-e181-8e0c6184f5e2"
      },
      "execution_count": 17,
      "outputs": [
        {
          "output_type": "stream",
          "name": "stdout",
          "text": [
            "hello world!!\n"
          ]
        }
      ]
    },
    {
      "cell_type": "markdown",
      "source": [
        "Q.1 explain the key features of Python that make it a populaR choices for  programing.\n",
        "\n",
        "ANS : **Python is a popular programming language because of its simplicity, versatility, and broad ecosystem. Here are some key features that make it a top choice for programmers**\n",
        "1. **Easy to Read and Write:**\n",
        "Python has a clear, readable syntax that resembles plain English, making it easier for beginners to learn and for experienced developers to write clean, understandable code.\n",
        "2.   **Dynamically Typed:**\n",
        "Python does not require explicit declaration of variable types. This allows for more flexibility and faster coding, though it can come at the cost of runtime errors if not used carefully.\n",
        "Interpreted Language:\n",
        "\n",
        "1.  **Python is an interpreted language**\n",
        " meaning that code is executed\n",
        "line-by-line, making debugging and testing easier. You can quickly see results without needing to compile your code.\n",
        "4.**extensive standard libraray**\n",
        "Python comes with a vast standard library that includes modules for working with file I/O, system calls, networking, internet protocols, databases, and more. This minimizes the need to write code from scratch for common tasks.\n",
        "5.**Cross-Platform Compatibility:**\n",
        "Python is platform-independent, meaning that it can run on various operating systems like Windows, macOS, and Linux without the need for changes to the code.\n",
        "6.**Extensive Standard Library:**Python supports various programming paradigms,including procedural, object-oriented, and functional programming. This flexibility allows developers to use the approach best suited for their project.\n",
        "7.**Large and Active Community:**\n",
        "Python has a large and active community that contributes to its ecosystem. This means a wealth of third-party libraries and frameworks (such as Django, Flask, NumPy, and Pandas) are available, which speeds up development in areas like web development, data science, machine learning, and automation.\n",
        "8.**Integration Capabilities:**\n",
        "Python can easily integrate with other programming languages like C, C++, and Java. It also has tools for web services, calling from and working with libraries written in these languages\n",
        "9.**Wide Use in Data Science and Machine Learning:**\n",
        "Python’s simplicity, along with libraries like TensorFlow, Keras, and Scikit-learn, make it a go-to language for data scientists, machine learning engineers, and researchers.\n",
        "10.**Robust Frameworks for Web Development:**\n",
        "Frameworks like Django and Flask allow developers to build robust web applications quickly and efficiently, making Python popular in the web development domain as well.\n",
        "\n",
        "These features, combined with Python's simplicity, flexibility, and wide application across various fields, contribute to its status as one of the most popular programming languages today."
      ],
      "metadata": {
        "id": "23PFNq3eE8gK"
      }
    },
    {
      "cell_type": "markdown",
      "source": [
        "**Q.2 Describe the Roles of predefined keywords in python and provide example of how they used.**\n",
        "\n",
        "**ANS:**Predefined keywords (also called **reserved words**) in Python are words that have special meanings and roles in the language syntax. These keywords are essential for defining the structure and behavior of a Python program. Since they have predefined purposes, they cannot be used as variable names, function names, or any other identifier.\n",
        "\n",
        "### Role of Predefined Keywords in Python\n",
        "\n",
        "1. **Control Flow**:\n",
        "   Keywords like `if`, `else`, `elif`, `while`, and `for` control the execution flow of a program by allowing conditional and loop-based decision making.\n",
        "   \n",
        "2. **Defining Functions and Classes**:\n",
        "   Keywords like `def` and `class` are used to define functions and classes, which are core building blocks for structuring Python programs.\n",
        "\n",
        "3. **Handling Exceptions**:\n",
        "   Keywords like `try`, `except`, `finally`, and `raise` are used for error handling, ensuring programs can handle unexpected situations gracefully.\n",
        "\n",
        "4. **Logical Operators**:\n",
        "   Keywords like `and`, `or`, and `not` are used to perform logical operations, helping in building complex conditions.\n",
        "\n",
        "5. **Declaring Variables and Constants**:\n",
        "   Keywords like `True`, `False`, and `None` represent boolean values and null values that are commonly used in programming logic.\n",
        "\n",
        "6. **Working with Data Structures**:\n",
        "   Keywords like `in` and `is` are used for membership testing and identity comparison, respectively.\n",
        "\n",
        "7. **Special Functionality**:\n",
        "   Some keywords like `global`, `nonlocal`, `lambda`, `yield`, and `return` provide special control for variable scope, anonymous functions, and function returns.\n",
        "\n",
        "### Commonly Used Predefined Keywords in Python\n",
        "\n",
        "- **if**, **else**, **elif** – For conditional statements\n",
        "- **for**, **while**, **break**, **continue** – For loops and control statements\n",
        "- **def** – To define functions\n",
        "- **return** – To return a value from a function\n",
        "- **class** – To define classes\n",
        "- **import** – To import modules\n",
        "- **try**, **except**, **finally** – For exception handling\n",
        "- **in**, **is** – For membership and identity testing\n",
        "- **and**, **or**, **not** – Logical operators\n",
        "- **True**, **False**, **None** – Boolean and null constants\n",
        "\n"
      ],
      "metadata": {
        "id": "MWtGdo8EKt8W"
      }
    },
    {
      "cell_type": "code",
      "source": [
        "# Define a function using 'def'\n",
        "def check_even_odd(num):\n",
        "    # Use 'if', 'else' for conditional logic\n",
        "    if num % 2 == 0:\n",
        "        return True  # Use 'return' to give output from the function\n",
        "    else:\n",
        "        return False\n",
        "\n",
        "# Use 'for' loop to iterate through numbers\n",
        "for i in range(1, 6):\n",
        "    # Use 'print' to output values\n",
        "    if check_even_odd(i):  # Use 'if' to test condition\n",
        "        print(f\"{i} is even\")\n",
        "    else:\n",
        "        print(f\"{i} is odd\")\n"
      ],
      "metadata": {
        "colab": {
          "base_uri": "https://localhost:8080/"
        },
        "id": "wtAM7urUL9-D",
        "outputId": "7676d616-d704-445f-bdf3-2184699b4ad1"
      },
      "execution_count": 18,
      "outputs": [
        {
          "output_type": "stream",
          "name": "stdout",
          "text": [
            "1 is odd\n",
            "2 is even\n",
            "3 is odd\n",
            "4 is even\n",
            "5 is odd\n"
          ]
        }
      ]
    },
    {
      "cell_type": "markdown",
      "source": [
        "**Q.3 Compare and contras mutable and immutable objects in python with example.**\n",
        "\n",
        "# **ANS : MUTABLE OBJECTS**\n",
        "# ASPECTS\n",
        "\n",
        "\n",
        "**1. Changeability:\tCan be changed after creation**\n",
        "\n",
        "**2.Modification\tModifications happen in place**\n",
        "\n",
        "**3.Memory\tThe same memory location is retained**\n",
        "\n",
        "**4.Performance\tFaster when modifying in place**\n",
        "\n",
        "**5.Examples :\tLists, dictionaries, sets**\n",
        "# **IMMUTABLE OBJECTS**\n",
        "# ASPECTS\n",
        "**1. Changeability:\tCannot be changed after creation**\n",
        "\n",
        "**2.Modification :Modifications create a new object**\n",
        "\n",
        "**3.Memory :New memory location is allocated**\n",
        "\n",
        "**4.Performance :\tRequires more memory and processing for modifications**\n",
        "\n",
        "**5.Examples :Integers, strings, tuples**\n",
        "\n",
        "# Key Differences:\n",
        "**Memory Behavior**: Modifying a mutable object like a list does not change its memory address, while modifying an immutable object like a string results in a new object with a new memory address.\n",
        "\n",
        "**Efficiency**: Mutable objects are more efficient for operations where you need to make frequent modifications, as you don't need to create a new object every time you make a change. Immutable objects are better suited for scenarios where data integrity and stability are essential.\n",
        "\n",
        "\n",
        "\n",
        "\n"
      ],
      "metadata": {
        "id": "_t47LjMHNBLg"
      }
    },
    {
      "cell_type": "code",
      "source": [
        "# Mutable: List\n",
        "my_list = [1, 2, 3]\n",
        "print(id(my_list))  # Print memory location of the list\n",
        "my_list.append(4)    # Modify the list\n",
        "print(id(my_list))  # Memory location remains the same\n",
        "\n",
        "# Immutable: String\n",
        "my_string = \"hello\"\n",
        "print(id(my_string))  # Print memory location of the string\n",
        "my_string = \"hello world\"  # Reassign (modifies the string)\n",
        "print(id(my_string))  # Memory location changes since a new string is created\n"
      ],
      "metadata": {
        "colab": {
          "base_uri": "https://localhost:8080/"
        },
        "id": "WjoMWhs_hRwh",
        "outputId": "d2e1b280-631c-49b7-e765-0fd1c0d71024"
      },
      "execution_count": 19,
      "outputs": [
        {
          "output_type": "stream",
          "name": "stdout",
          "text": [
            "134182004043456\n",
            "134182004043456\n",
            "134182618420272\n",
            "134182002853872\n"
          ]
        }
      ]
    },
    {
      "cell_type": "markdown",
      "source": [
        "**Q.4 Discuss the different types of operators in Python and pRovide examples of how they are used**\n",
        "\n",
        "ANS : Python provides a variety of operators that allow you to perform operations on variables and values. These operators can be classified into several categories based on their functionality:\n",
        "\n",
        "1. Arithmetic Operators\n",
        "Arithmetic operators are used to perform mathematical operations like addition, subtraction, multiplication, etc.\n",
        "\n",
        "**Operator\tDescription\tExample\n",
        "\n",
        "+  Addition\t5 + 3 = 8\n",
        "-\t Subtraction\t5 - 3 = 2\n",
        "*\t Multiplication\t5 * 3 = 15\n",
        "/\t Division\t6 / 3 = 2.0\n",
        "% Modulus (remainder)\t5 % 3 = 2\n",
        "**\tExponentiation\t2 ** 3 = 8\n",
        "//\tFloor Division\t7 // 2 = 3**\n"
      ],
      "metadata": {
        "id": "uoR8ZQb2jIfA"
      }
    },
    {
      "cell_type": "code",
      "source": [
        "a = 10\n",
        "b = 3\n",
        "print(a + b)   # Output: 13\n",
        "print(a ** b)  # Output: 1000 (Exponentiation: 10^3)\n",
        "print(a // b)  # Output: 3 (Floor division)\n"
      ],
      "metadata": {
        "colab": {
          "base_uri": "https://localhost:8080/"
        },
        "id": "TKzw0XlelRel",
        "outputId": "ca888549-f11d-471f-eb0f-ccb8135f638e"
      },
      "execution_count": 20,
      "outputs": [
        {
          "output_type": "stream",
          "name": "stdout",
          "text": [
            "13\n",
            "1000\n",
            "3\n"
          ]
        }
      ]
    },
    {
      "cell_type": "markdown",
      "source": [
        "**2. Assignment Operators:**\n",
        "Assignment operators are used to assign values to variables. In addition, there are compound operators that perform an operation and assign the result to the variable.\n",
        "\n",
        "Operator\tDescription\tExample:\n",
        "\n",
        "=\tAssigns a value\tx = 5\n",
        "\n",
        "+=\tAdds and assigns\tx += 3 (equivalent to x = x + 3)\n",
        "\n",
        "-=\tSubtracts and assigns\tx -= 2\n",
        "\n",
        "*=\tMultiplies and assigns\tx *= 5\n",
        "\n",
        "/=\tDivides and assigns\tx /= 2\n",
        "\n",
        "//=\tFloor divides and assigns\tx //= 2\n",
        "\n",
        "\n",
        "%=\tModulus and assigns\tx %= 3\n",
        "\n",
        "**=\tExponentiates and assigns\tx **= 2"
      ],
      "metadata": {
        "id": "5lfaoNqvlVqO"
      }
    },
    {
      "cell_type": "code",
      "source": [
        "x = 10\n",
        "x += 5  # Equivalent to x = x + 5\n",
        "print(x)  # Output: 15\n",
        "\n"
      ],
      "metadata": {
        "colab": {
          "base_uri": "https://localhost:8080/"
        },
        "id": "pp1Pi5VvnF_Z",
        "outputId": "c6b4164c-c138-45b4-a2e1-7b1b3536ec51"
      },
      "execution_count": 21,
      "outputs": [
        {
          "output_type": "stream",
          "name": "stdout",
          "text": [
            "15\n"
          ]
        }
      ]
    },
    {
      "cell_type": "markdown",
      "source": [
        "**3. Comparison Operators**\n",
        "\n",
        "Comparison operators compare two values and return a boolean value (True or False).\n",
        "\n",
        "Operator\tDescription\tExample\n",
        "\n",
        "==\tEqual to\t5 == 5 is True\n",
        "\n",
        "!=\tNot equal to\t5 != 3 is True\n",
        "\n",
        ">\tGreater than\t5 > 3 is True\n",
        "\n",
        "<\tLess than\t5 < 3 is False\n",
        "\n",
        ">=\tGreater than or equal to\t5 >= 5 is True\n",
        "\n",
        "<=\tLess than or equal to\t5 <= 6 is True**"
      ],
      "metadata": {
        "id": "aNn7Xet_nThJ"
      }
    },
    {
      "cell_type": "code",
      "source": [
        "a = 10\n",
        "b = 5\n",
        "print(a > b)   # Output: True\n",
        "print(a == 10) # Output: True\n"
      ],
      "metadata": {
        "colab": {
          "base_uri": "https://localhost:8080/"
        },
        "id": "8ky3WwVwnrkj",
        "outputId": "34ed3c62-1ea0-4008-d798-22d65c20993f"
      },
      "execution_count": 22,
      "outputs": [
        {
          "output_type": "stream",
          "name": "stdout",
          "text": [
            "True\n",
            "True\n"
          ]
        }
      ]
    },
    {
      "cell_type": "markdown",
      "source": [
        "**4. Logical Operators**\n",
        "Logical operators are used to combine conditional statements. These operators return boolean values.\n",
        "\n",
        "Operator\tDescription\tExample\n",
        "\n",
        "and\tReturns True if both conditions are true\t(5 > 3 and 8 > 6) is True\n",
        "\n",
        "or\tReturns True if at least one condition is true\t(5 > 3 or 8 < 6) is True\n",
        "\n",
        "not\tInverts the boolean value\tnot (5 > 3) is False\n",
        "**"
      ],
      "metadata": {
        "id": "3LvqFrhqoHZU"
      }
    },
    {
      "cell_type": "code",
      "source": [
        "a = 10\n",
        "b = 5\n",
        "print(a > b and b > 3)   # Output: True (Both conditions are true)\n",
        "print(not (a == 5))      # Output: True (Inverts the result)\n",
        "\n"
      ],
      "metadata": {
        "colab": {
          "base_uri": "https://localhost:8080/"
        },
        "id": "q871jPROpDiC",
        "outputId": "3e4f13f7-8136-4a40-8b65-99934c476262"
      },
      "execution_count": 23,
      "outputs": [
        {
          "output_type": "stream",
          "name": "stdout",
          "text": [
            "True\n",
            "True\n"
          ]
        }
      ]
    },
    {
      "cell_type": "markdown",
      "source": [
        "**5. Bitwise Operators**\n",
        "Bitwise operators work on binary representations of integers. They operate bit by bit.\n",
        "\n",
        "Operator\tDescription\tExample\n",
        "\n",
        "&\tBitwise AND\t5 & 3 is 1\n",
        "\n",
        "`\t`\tBitwise OR\n",
        "\n",
        "^\tBitwise XOR\t5 ^ 3 is 6\n",
        "\n",
        "~\tBitwise NOT\t~5 is -6\n",
        "\n",
        "<<\tLeft Shift\t5 << 1 is 10\n",
        "\n",
        ">>\tRight Shift\t5 >> 1 is 2**\n"
      ],
      "metadata": {
        "id": "bchj7wHGpSgq"
      }
    },
    {
      "cell_type": "code",
      "source": [
        "a = 5   # Binary: 101\n",
        "b = 3   # Binary: 011\n",
        "print(a & b)  # Output: 1 (Binary: 001)\n"
      ],
      "metadata": {
        "colab": {
          "base_uri": "https://localhost:8080/"
        },
        "id": "C7rWXZuBp6i4",
        "outputId": "7fcb523b-7d61-4e35-f938-2804d41a0187"
      },
      "execution_count": 24,
      "outputs": [
        {
          "output_type": "stream",
          "name": "stdout",
          "text": [
            "1\n"
          ]
        }
      ]
    },
    {
      "cell_type": "markdown",
      "source": [
        "**6. Identity Operators**\n",
        "Identity operators are used to compare the memory location of two objects.\n",
        "\n",
        "Operator\tDescription\tExample\n",
        "\n",
        "\n",
        "is\tReturns True if both variables point to the same object\ta is b\n",
        "\n",
        "is not\tReturns True if both variables point to different objects\ta is not b\n",
        "**"
      ],
      "metadata": {
        "id": "bKEZ3kIlq8ff"
      }
    },
    {
      "cell_type": "code",
      "source": [
        "a = [1, 2, 3]\n",
        "b = a\n",
        "print(a is b)  # Output: True (Both point to the same object)\n"
      ],
      "metadata": {
        "colab": {
          "base_uri": "https://localhost:8080/"
        },
        "id": "FvrcfIDPrF8-",
        "outputId": "bcf2cd89-eba9-4ced-9c65-58e67b3cfb19"
      },
      "execution_count": 25,
      "outputs": [
        {
          "output_type": "stream",
          "name": "stdout",
          "text": [
            "True\n"
          ]
        }
      ]
    },
    {
      "cell_type": "markdown",
      "source": [
        "**7. Membership Operators**\n",
        "\n",
        "Membership operators test whether a value is a member of a sequence (like a list, string, or tuple).\n",
        "\n",
        "Operator\tDescription\tExample\n",
        "\n",
        "in\tReturns True if value is found in the sequence\t5 in [1, 2, 3, 5] is True\n",
        "\n",
        "not in\tReturns True if value is not found in the sequence\t4 not in [1, 2, 3] is True\n",
        "**"
      ],
      "metadata": {
        "id": "Ojha-EY3sJZQ"
      }
    },
    {
      "cell_type": "code",
      "source": [
        "fruits = [\"apple\", \"banana\", \"cherry\"]\n",
        "print(\"apple\" in fruits)    # Output: True\n",
        "print(\"orange\" not in fruits)  # Output: True\n"
      ],
      "metadata": {
        "colab": {
          "base_uri": "https://localhost:8080/"
        },
        "id": "XIBCFtU1sa2n",
        "outputId": "7bd49337-d082-45d6-cc07-fbef9687bcea"
      },
      "execution_count": 26,
      "outputs": [
        {
          "output_type": "stream",
          "name": "stdout",
          "text": [
            "True\n",
            "True\n"
          ]
        }
      ]
    },
    {
      "cell_type": "markdown",
      "source": [
        "**8. Special Operators: is, in**\n",
        "These operators allow testing the identity and membership of objects.\n",
        "\n",
        "is: Tests whether two variables point to the same object.\n",
        "\n",
        "in: Tests whether a value exists in a sequence (like a list or string)."
      ],
      "metadata": {
        "id": "_kJ5WUQZsgBo"
      }
    },
    {
      "cell_type": "code",
      "source": [
        "a = [1, 2, 3]\n",
        "b = [1, 2, 3]\n",
        "print(a is b)  # Output: False (They are different objects)\n",
        "print(2 in a)  # Output: True (2 is a member of the list)\n"
      ],
      "metadata": {
        "colab": {
          "base_uri": "https://localhost:8080/"
        },
        "id": "u-ykQ6PtsxXS",
        "outputId": "5aabe3ed-c97e-4737-dce2-df654878dc5d"
      },
      "execution_count": 27,
      "outputs": [
        {
          "output_type": "stream",
          "name": "stdout",
          "text": [
            "False\n",
            "True\n"
          ]
        }
      ]
    },
    {
      "cell_type": "markdown",
      "source": [
        "**Conclusion**\n",
        "\n",
        "Python offers a wide range of operators for performing arithmetic, comparison, logical, bitwise, and membership operations. Understanding these operators allows for efficient and clean manipulation of variables, control structures, and data in Python programs."
      ],
      "metadata": {
        "id": "KY4ctYxds5Ty"
      }
    },
    {
      "cell_type": "markdown",
      "source": [
        "Type casting in Python refers to converting one data type into another. Python supports both implicit and explicit type casting.\n",
        "\n",
        "1. Implicit Type Casting\n",
        "Implicit type casting happens automatically when Python converts one data type to another without any explicit instruction from the programmer. This generally occurs when performing operations between different data types where Python automatically upgrades the type to prevent data loss.\n",
        "\n",
        "2. Explicit Type Casting\n",
        "Explicit type casting requires the programmer to manually convert one data type into another using built-in functions. Python provides several functions for type conversion, including:\n",
        "\n",
        "int() – Converts to integer\n",
        "\n",
        "float() – Converts to float\n",
        "\n",
        "str() – Converts to string\n",
        "\n",
        "list() – Converts to list\n",
        "\n",
        "tuple() – Converts to tuple\n",
        "\n",
        "set() – Converts to set\n",
        "\n",
        "Practical Use of Type Casting:\n",
        "\n",
        "Sometimes, type casting is necessary when performing operations that require a specific type. For example, if you are reading user input, it is read as a string, and you'll need to cast it to a number to perform arithmetic operations."
      ],
      "metadata": {
        "id": "hmWazNaPtEZb"
      }
    },
    {
      "cell_type": "code",
      "source": [
        "a = 5        # Integer\n",
        "b = 2.5      # Float\n",
        "\n",
        "# Python automatically converts 'a' to a float for the addition\n",
        "result = a + b\n",
        "print(result)  # Output: 7.5 (a is implicitly cast to float)\n",
        "print(type(result))  # Output: <class 'float'>\n"
      ],
      "metadata": {
        "colab": {
          "base_uri": "https://localhost:8080/"
        },
        "id": "yWIOkZiUuABO",
        "outputId": "da6b304c-2a8a-490b-87b8-edf8b2a0b52d"
      },
      "execution_count": 28,
      "outputs": [
        {
          "output_type": "stream",
          "name": "stdout",
          "text": [
            "7.5\n",
            "<class 'float'>\n"
          ]
        }
      ]
    },
    {
      "cell_type": "code",
      "source": [
        "a = 7.8\n",
        "b = int(a)   # Convert float to integer\n",
        "print(b)     # Output: 7 (decimal part is truncated)\n"
      ],
      "metadata": {
        "colab": {
          "base_uri": "https://localhost:8080/"
        },
        "id": "ZkoaYBxvuGOl",
        "outputId": "67ef514d-baa7-42e8-ef19-b051426613eb"
      },
      "execution_count": 29,
      "outputs": [
        {
          "output_type": "stream",
          "name": "stdout",
          "text": [
            "7\n"
          ]
        }
      ]
    },
    {
      "cell_type": "code",
      "source": [
        "num_str = \"123\"\n",
        "num_int = int(num_str)  # Convert string to integer\n",
        "print(num_int + 10)     # Output: 133\n"
      ],
      "metadata": {
        "colab": {
          "base_uri": "https://localhost:8080/"
        },
        "id": "2maxuf7FuOj9",
        "outputId": "bd48a04d-f450-4d88-d44b-00b3f0ddb071"
      },
      "execution_count": 30,
      "outputs": [
        {
          "output_type": "stream",
          "name": "stdout",
          "text": [
            "133\n"
          ]
        }
      ]
    },
    {
      "cell_type": "code",
      "source": [
        "my_list = [1, 2, 3]\n",
        "my_tuple = tuple(my_list)  # Convert list to tuple\n",
        "print(my_tuple)            # Output: (1, 2, 3)\n"
      ],
      "metadata": {
        "colab": {
          "base_uri": "https://localhost:8080/"
        },
        "id": "wXPZi-a8uRNi",
        "outputId": "d0b2fe69-7b14-4222-8f2f-e682e2e49bb0"
      },
      "execution_count": 31,
      "outputs": [
        {
          "output_type": "stream",
          "name": "stdout",
          "text": [
            "(1, 2, 3)\n"
          ]
        }
      ]
    },
    {
      "cell_type": "code",
      "source": [
        "# Taking input from the user as a string and converting it to an integer\n",
        "age_str = input(\"Enter your age: \")  # Input is always a string\n",
        "age_int = int(age_str)               # Convert string to integer\n",
        "\n",
        "# Now, you can perform arithmetic operations\n",
        "print(\"You will be\", age_int + 1, \"years old next year.\")\n"
      ],
      "metadata": {
        "id": "in2AcMsluYYV"
      },
      "execution_count": null,
      "outputs": []
    },
    {
      "cell_type": "markdown",
      "source": [
        "**Q.6 How do conditional statEMents works in Python? Illust$ate with exaMples.**\n",
        "\n",
        "ANS : In Python, conditional statements are used to execute certain blocks of code based on specific conditions. The most common conditional statements are if, elif, and else. These statements allow you to control the flow of your program by making decisions based on boolean expressions (evaluating to either True or False).**\n",
        "\n",
        "Structure of Conditional Statements:\n",
        "\n",
        "if statement: The code block is executed if the condition evaluates to True.\n",
        "\n",
        "elif (else if): Checks another condition if the previous if or elif statement is False.\n",
        "\n",
        "else statement: Executes a code block if none of the previous conditions are True.\n",
        "\n",
        "Syntax:**"
      ],
      "metadata": {
        "id": "gfjvVSWpuyZJ"
      }
    },
    {
      "cell_type": "code",
      "source": [
        "age = 18\n",
        "\n",
        "if age < 18:\n",
        "    print(\"You are a minor.\")\n",
        "elif age == 18:\n",
        "    print(\"You just became an adult!\")\n",
        "else:\n",
        "    print(\"You are an adult.\")\n"
      ],
      "metadata": {
        "colab": {
          "base_uri": "https://localhost:8080/"
        },
        "id": "ZlNZBRGvvPps",
        "outputId": "ba9de29d-bee5-452f-f0fc-df34d140e69d"
      },
      "execution_count": 34,
      "outputs": [
        {
          "output_type": "stream",
          "name": "stdout",
          "text": [
            "You just became an adult!\n"
          ]
        }
      ]
    },
    {
      "cell_type": "code",
      "source": [
        "num = 10\n",
        "\n",
        "if num > 0:\n",
        "    print(\"The number is positive.\")\n",
        "    if num % 2 == 0:\n",
        "        print(\"It is also even.\")\n",
        "else:\n",
        "    print(\"The number is zero or negative.\")\n"
      ],
      "metadata": {
        "colab": {
          "base_uri": "https://localhost:8080/"
        },
        "id": "vbvNYeKavYfd",
        "outputId": "e2e331e3-8296-4335-d712-c874e158a9e9"
      },
      "execution_count": 35,
      "outputs": [
        {
          "output_type": "stream",
          "name": "stdout",
          "text": [
            "The number is positive.\n",
            "It is also even.\n"
          ]
        }
      ]
    },
    {
      "cell_type": "code",
      "source": [
        "temperature = 35\n",
        "\n",
        "if temperature > 30 and temperature < 40:\n",
        "    print(\"It's a hot day.\")\n",
        "elif temperature <= 30:\n",
        "    print(\"The weather is normal.\")\n",
        "else:\n",
        "    print(\"It's extremely hot.\")\n"
      ],
      "metadata": {
        "colab": {
          "base_uri": "https://localhost:8080/"
        },
        "id": "yRqxrsXkvg4G",
        "outputId": "fe7888fc-dc5b-4317-e2ff-049e4a60d8dc"
      },
      "execution_count": 36,
      "outputs": [
        {
          "output_type": "stream",
          "name": "stdout",
          "text": [
            "It's a hot day.\n"
          ]
        }
      ]
    },
    {
      "cell_type": "code",
      "source": [
        "is_raining = True\n",
        "\n",
        "if is_raining:\n",
        "    print(\"Take an umbrella.\")\n",
        "else:\n",
        "    print(\"Enjoy the sunshine!\")\n"
      ],
      "metadata": {
        "colab": {
          "base_uri": "https://localhost:8080/"
        },
        "id": "auT9aTZNvqRf",
        "outputId": "8f8380e6-f4d4-4274-90df-e82a5c347192"
      },
      "execution_count": 37,
      "outputs": [
        {
          "output_type": "stream",
          "name": "stdout",
          "text": [
            "Take an umbrella.\n"
          ]
        }
      ]
    },
    {
      "cell_type": "code",
      "source": [
        "age = 16\n",
        "status = \"Adult\" if age >= 18 else \"Minor\"\n",
        "print(status)\n"
      ],
      "metadata": {
        "colab": {
          "base_uri": "https://localhost:8080/"
        },
        "id": "TvNp_bSsvv4i",
        "outputId": "dbbf77c0-4e32-4cd6-d9fc-8665cfe5cc6b"
      },
      "execution_count": 38,
      "outputs": [
        {
          "output_type": "stream",
          "name": "stdout",
          "text": [
            "Minor\n"
          ]
        }
      ]
    },
    {
      "cell_type": "markdown",
      "source": [
        "**Q.7 Describe  the different types of loops in Python and thei$ use cases with examples.**\n",
        "\n",
        "ANS : In Python, loops are used to repeatedly execute a block of code as long as a specified condition is met. Python provides two main types of loops: for loops and while loops. Additionally, Python offers control flow statements like break, continue, and pass to manage the behavior of loops.\n",
        "\n",
        "**1. for Loop\n",
        "The for loop in Python is used to iterate over a sequence (like a list, tuple, string, or range) and execute a block of code for each item in the sequence. It is typically used when you know how many times you want to execute a block of code.**\n",
        "\n",
        "**2. while Loop\n",
        "The while loop in Python continues to execute the code block as long as the specified condition evaluates to True. It is typically used when the number of iterations is not known beforehand and depends on the condition.**\n",
        "\n",
        "**3. Control Flow Statements in Loops\n",
        "a. break\n",
        "The break statement is used to exit a loop prematurely when a certain condition is met.**\n"
      ],
      "metadata": {
        "id": "PLbIwPRMwhf1"
      }
    },
    {
      "cell_type": "code",
      "source": [
        "fruits = [\"apple\", \"banana\", \"cherry\"]\n",
        "\n",
        "for fruit in fruits:\n",
        "    print(fruit)\n"
      ],
      "metadata": {
        "colab": {
          "base_uri": "https://localhost:8080/"
        },
        "id": "GOXYlNjox4EJ",
        "outputId": "21b359c0-23e5-431b-85f2-49a65db7ee28"
      },
      "execution_count": 41,
      "outputs": [
        {
          "output_type": "stream",
          "name": "stdout",
          "text": [
            "apple\n",
            "banana\n",
            "cherry\n"
          ]
        }
      ]
    },
    {
      "cell_type": "code",
      "source": [
        "for i in range(1, 6):  # range(start, stop)\n",
        "    print(i)\n"
      ],
      "metadata": {
        "colab": {
          "base_uri": "https://localhost:8080/"
        },
        "id": "d6lvfj59x8Gq",
        "outputId": "d4d2247b-492a-422a-83de-79ab59c77037"
      },
      "execution_count": 42,
      "outputs": [
        {
          "output_type": "stream",
          "name": "stdout",
          "text": [
            "1\n",
            "2\n",
            "3\n",
            "4\n",
            "5\n"
          ]
        }
      ]
    },
    {
      "cell_type": "code",
      "source": [
        "count = 0\n",
        "\n",
        "while count < 5:\n",
        "    print(\"Count is:\", count)\n",
        "    count += 1\n"
      ],
      "metadata": {
        "colab": {
          "base_uri": "https://localhost:8080/"
        },
        "id": "RFBT_D-0yH-M",
        "outputId": "a87887ef-2e4a-4412-cd3a-8404aa6ae8b3"
      },
      "execution_count": 43,
      "outputs": [
        {
          "output_type": "stream",
          "name": "stdout",
          "text": [
            "Count is: 0\n",
            "Count is: 1\n",
            "Count is: 2\n",
            "Count is: 3\n",
            "Count is: 4\n"
          ]
        }
      ]
    },
    {
      "cell_type": "code",
      "source": [
        "i = 1\n",
        "while True:  # Infinite loop\n",
        "    print(i)\n",
        "    i += 1\n",
        "    if i > 5:\n",
        "        break  # Exit the loop when i is greater than 5\n"
      ],
      "metadata": {
        "colab": {
          "base_uri": "https://localhost:8080/"
        },
        "id": "e65eimT0yOXu",
        "outputId": "47346edc-a7cc-422d-f9ca-6299e1c15f56"
      },
      "execution_count": 44,
      "outputs": [
        {
          "output_type": "stream",
          "name": "stdout",
          "text": [
            "1\n",
            "2\n",
            "3\n",
            "4\n",
            "5\n"
          ]
        }
      ]
    },
    {
      "cell_type": "code",
      "source": [
        "for i in range(5):\n",
        "    if i == 2:\n",
        "        continue  # Skip the current iteration when i equals 2\n",
        "    print(i)\n"
      ],
      "metadata": {
        "colab": {
          "base_uri": "https://localhost:8080/"
        },
        "id": "Og1lZs6hyTD3",
        "outputId": "5155a602-aca5-40dd-a37c-fed5fdba6dae"
      },
      "execution_count": 45,
      "outputs": [
        {
          "output_type": "stream",
          "name": "stdout",
          "text": [
            "0\n",
            "1\n",
            "3\n",
            "4\n"
          ]
        }
      ]
    },
    {
      "cell_type": "code",
      "source": [
        "for i in range(5):\n",
        "    print(\"This will repeat 5 times\")\n"
      ],
      "metadata": {
        "colab": {
          "base_uri": "https://localhost:8080/"
        },
        "id": "4jblRPKtyWsa",
        "outputId": "dddd7f86-0bbc-45b6-85f7-7bdbdbdfff92"
      },
      "execution_count": 47,
      "outputs": [
        {
          "output_type": "stream",
          "name": "stdout",
          "text": [
            "This will repeat 5 times\n",
            "This will repeat 5 times\n",
            "This will repeat 5 times\n",
            "This will repeat 5 times\n",
            "This will repeat 5 times\n"
          ]
        }
      ]
    },
    {
      "cell_type": "code",
      "source": [
        "scores = [95, 85, 75, 65]\n",
        "total = 0\n",
        "for score in scores:\n",
        "    total += score\n",
        "print(\"Total:\", total)\n"
      ],
      "metadata": {
        "colab": {
          "base_uri": "https://localhost:8080/"
        },
        "id": "uNtv1o8Fyjx2",
        "outputId": "ca74ed39-01ae-4e8b-8199-8025d7bffc42"
      },
      "execution_count": 48,
      "outputs": [
        {
          "output_type": "stream",
          "name": "stdout",
          "text": [
            "Total: 320\n"
          ]
        }
      ]
    },
    {
      "cell_type": "code",
      "source": [
        "import time\n",
        "countdown = 5\n",
        "while countdown > 0:\n",
        "    print(countdown)\n",
        "    time.sleep(1)\n",
        "    countdown -= 1\n",
        "print(\"Time's up!\")\n"
      ],
      "metadata": {
        "colab": {
          "base_uri": "https://localhost:8080/"
        },
        "id": "jJitc8JAywNq",
        "outputId": "80781f5e-5998-430e-cbe6-6222f62f6be7"
      },
      "execution_count": 50,
      "outputs": [
        {
          "output_type": "stream",
          "name": "stdout",
          "text": [
            "5\n",
            "4\n",
            "3\n",
            "2\n",
            "1\n",
            "Time's up!\n"
          ]
        }
      ]
    }
  ]
}